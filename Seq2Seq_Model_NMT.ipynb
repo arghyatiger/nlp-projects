{
  "nbformat": 4,
  "nbformat_minor": 0,
  "metadata": {
    "colab": {
      "name": "Seq2Seq Model NMT",
      "version": "0.3.2",
      "provenance": [],
      "collapsed_sections": [],
      "include_colab_link": true
    },
    "kernelspec": {
      "display_name": "Python 3",
      "name": "python3"
    }
  },
  "cells": [
    {
      "cell_type": "markdown",
      "metadata": {
        "id": "view-in-github",
        "colab_type": "text"
      },
      "source": [
        "<a href=\"https://colab.research.google.com/github/arghyatiger/nlp-projects/blob/master/Seq2Seq_Model_NMT.ipynb\" target=\"_parent\"><img src=\"https://colab.research.google.com/assets/colab-badge.svg\" alt=\"Open In Colab\"/></a>"
      ]
    },
    {
      "metadata": {
        "id": "r303El27eGzL",
        "colab_type": "text"
      },
      "cell_type": "markdown",
      "source": [
        "**Seq2Seq Machine Translation Model**\n",
        "\n",
        "\n"
      ]
    },
    {
      "metadata": {
        "id": "XOzbaRGwh-MX",
        "colab_type": "text"
      },
      "cell_type": "markdown",
      "source": [
        "**Loading the Data**\n",
        "---\n",
        "\n"
      ]
    },
    {
      "metadata": {
        "id": "_cnkeRXJeMj1",
        "colab_type": "code",
        "outputId": "c1527b34-886e-4747-bfe8-0e1e45fde577",
        "colab": {
          "base_uri": "https://localhost:8080/",
          "height": 34
        }
      },
      "cell_type": "code",
      "source": [
        "from google.colab import drive\n",
        "drive.mount('/content/gdrive')"
      ],
      "execution_count": 8,
      "outputs": [
        {
          "output_type": "stream",
          "text": [
            "Drive already mounted at /content/gdrive; to attempt to forcibly remount, call drive.mount(\"/content/gdrive\", force_remount=True).\n"
          ],
          "name": "stdout"
        }
      ]
    },
    {
      "metadata": {
        "id": "n2gNRqs1ft_N",
        "colab_type": "code",
        "colab": {}
      },
      "cell_type": "code",
      "source": [
        "f_eng_train = open('./gdrive/My Drive/enghin/train.en', 'r')\n",
        "f_hin_train = open('./gdrive/My Drive/enghin/train.hi', 'r')\n",
        "f_eng_dev = open('./gdrive/My Drive/enghin/dev.en', 'r')\n",
        "f_hin_dev = open('./gdrive/My Drive/enghin/dev.hi', 'r')\n",
        "f_eng_test = open('./gdrive/My Drive/enghin/test.en', 'r')\n",
        "f_hin_test = open('./gdrive/My Drive/enghin/test.hi', 'r')\n",
        "# f_eng_train = open('./enghin/train.en', 'r')\n",
        "# f_hin_train = open('./enghin/train.hi', 'r')\n",
        "# f_eng_dev = open('./enghin/dev.en', 'r')\n",
        "# f_hin_dev = open('./enghin/dev.hi', 'r')\n",
        "# f_eng_test = open('./enghin/test.en', 'r')\n",
        "# f_hin_test = open('./enghin/test.hi', 'r')\n",
        "eng_train = f_eng_train.readlines()\n",
        "hin_train = f_hin_train.readlines()\n",
        "eng_dev = f_eng_dev.readlines()\n",
        "hin_dev = f_hin_dev.readlines()\n",
        "eng_test = f_eng_test.readlines()\n",
        "hin_test = f_hin_test.readlines()\n",
        "eng_train = eng_train[:1024]\n",
        "hin_train = hin_train[:1024]\n",
        "eng_test = eng_test[:2]\n",
        "hin_test = hin_test[:2]\n"
      ],
      "execution_count": 0,
      "outputs": []
    },
    {
      "metadata": {
        "id": "Vigt0uQHiM48",
        "colab_type": "text"
      },
      "cell_type": "markdown",
      "source": [
        "**Insights about the data**\n",
        "---\n",
        "\n",
        "\n",
        "\n",
        "1. ***DATASET SIZES:***\n",
        "\n",
        "> No of Training sentences: 49398\n",
        "\n",
        "> No of Dev sentences: 401\n",
        "\n",
        "> No of Test sentences : 200\n",
        "\n",
        "2. ***DATA SAMPLES:***\n",
        "\n",
        "> Training:\n",
        "\n",
        ">>ENG: The treatment of cataract is possible through surgery only .\n",
        "\n",
        ">>HIN: मोतियाबिंद का उपचार केवल शल्य-चिकित्सा द्वारा ही सम्भव है ।\n",
        "\n",
        ">Dev:\n",
        "\n",
        ">>ENG: but you will also be safe from eye diseases .\n",
        "\n",
        ">>HIN: बल्कि आप नेत्ररोगों से भी बचे रहेंगे ।\n",
        "\n",
        ">Test:\n",
        "\n",
        ">>ENG: Fresh breath and shining teeth enhance your personality .\n",
        "\n",
        ">>HIN: ताजा साँसें और चमचमाते दाँत आपके व्यक्तित्व को निखारते हैं ।"
      ]
    },
    {
      "metadata": {
        "id": "z3tRk_XJzYXe",
        "colab_type": "text"
      },
      "cell_type": "markdown",
      "source": [
        "**Pre-Processing Of Data**\n",
        "---\n",
        "\n"
      ]
    },
    {
      "metadata": {
        "id": "JKV2MvH-IScI",
        "colab_type": "text"
      },
      "cell_type": "markdown",
      "source": [
        "**Loading Pre-Trained Word Embeddings**\n",
        "---\n"
      ]
    },
    {
      "metadata": {
        "id": "I7dEXL3BGLMv",
        "colab_type": "code",
        "colab": {}
      },
      "cell_type": "code",
      "source": [
        "import torch\n",
        "import torch.nn as nn\n",
        "import torch.optim as optim\n",
        "\n",
        "from torchtext.data import Field, BucketIterator, TabularDataset\n",
        "from torchtext.datasets import TranslationDataset, Multi30k\n",
        "from torchtext.data import Field, BucketIterator\n",
        "from torchtext.vocab import Vectors\n"
      ],
      "execution_count": 0,
      "outputs": []
    },
    {
      "metadata": {
        "id": "CecPrWkxfdcA",
        "colab_type": "code",
        "colab": {}
      },
      "cell_type": "code",
      "source": [
        "eng_vectors = Vectors(name='./wiki-news-300d-1M.vec', cache='./')"
      ],
      "execution_count": 0,
      "outputs": []
    },
    {
      "metadata": {
        "id": "xxmOWaktwT6s",
        "colab_type": "code",
        "colab": {}
      },
      "cell_type": "code",
      "source": [
        "hin_vectors = Vectors(name='./cc.hi.300.vec', cache='./')"
      ],
      "execution_count": 0,
      "outputs": []
    },
    {
      "metadata": {
        "id": "MNotY0CK62_S",
        "colab_type": "code",
        "colab": {}
      },
      "cell_type": "code",
      "source": [
        "import pandas as pd\n",
        "\n",
        "\n",
        "\n",
        "train_data = {'English' : [line for line in eng_train], 'Hindi': [line for line in hin_train]}\n",
        "test_data = {'English' : [line for line in eng_test], 'Hindi': [line for line in hin_test]}\n",
        "val_data = {'English' : [line for line in eng_dev], 'Hindi': [line for line in hin_dev]}\n",
        "\n",
        "df = pd.DataFrame(train_data, columns=[\"English\", \"Hindi\"])\n",
        "df_t = pd.DataFrame(test_data, columns=[\"English\", \"Hindi\"])\n",
        "df_val = pd.DataFrame(val_data, columns=[\"English\", \"Hindi\"])"
      ],
      "execution_count": 0,
      "outputs": []
    },
    {
      "metadata": {
        "id": "nKZ6ZYX87R5M",
        "colab_type": "code",
        "colab": {}
      },
      "cell_type": "code",
      "source": [
        "df.to_csv(\"train.csv\")\n",
        "df_t.to_csv(\"test.csv\")\n",
        "df_val.to_csv(\"val.csv\")"
      ],
      "execution_count": 0,
      "outputs": []
    },
    {
      "metadata": {
        "id": "gCrLJSI4GlBx",
        "colab_type": "code",
        "colab": {}
      },
      "cell_type": "code",
      "source": [
        "def tokenize_english(text):\n",
        "  text = text.replace('\\n', ' ')\n",
        "  return text.split()\n",
        "\n",
        "def tokenize_hindi(text):\n",
        "  text = text.replace('\\n', ' ')\n",
        "  return text.split()"
      ],
      "execution_count": 0,
      "outputs": []
    },
    {
      "metadata": {
        "id": "-_7vVDLvdUJV",
        "colab_type": "code",
        "colab": {}
      },
      "cell_type": "code",
      "source": [
        "BATCH_SIZE = 64\n",
        "EN_TEXT = Field(tokenize = tokenize_english, init_token = '<sos>', eos_token = '<eos>', lower=True)\n",
        "HI_TEXT = Field(tokenize = tokenize_hindi, init_token = '<sos>', eos_token = '<eos>')\n",
        "data_fields = [('English', EN_TEXT), ('Hindi', HI_TEXT)]\n",
        "device = torch.device('cuda' if torch.cuda.is_available() else 'cpu')"
      ],
      "execution_count": 0,
      "outputs": []
    },
    {
      "metadata": {
        "id": "qoIG8rVECesN",
        "colab_type": "code",
        "colab": {}
      },
      "cell_type": "code",
      "source": [
        "train, val, test = TabularDataset.splits(path='./', train='train.csv', validation='val.csv', test='test.csv', format='csv', fields=data_fields)"
      ],
      "execution_count": 0,
      "outputs": []
    },
    {
      "metadata": {
        "id": "O3e-myfTHqvT",
        "colab_type": "code",
        "colab": {
          "base_uri": "https://localhost:8080/",
          "height": 70
        },
        "outputId": "09d35cff-d602-4713-f655-9b8a4aa09548"
      },
      "cell_type": "code",
      "source": [
        "print(f\"Number of training examples: {len(train.examples)}\")\n",
        "print(f\"Number of validation examples: {len(val.examples)}\")\n",
        "print(f\"Number of testing examples: {len(test.examples)}\")"
      ],
      "execution_count": 260,
      "outputs": [
        {
          "output_type": "stream",
          "text": [
            "Number of training examples: 1025\n",
            "Number of validation examples: 402\n",
            "Number of testing examples: 3\n"
          ],
          "name": "stdout"
        }
      ]
    },
    {
      "metadata": {
        "id": "IfKIfgsusCxH",
        "colab_type": "code",
        "colab": {}
      },
      "cell_type": "code",
      "source": [
        "EN_TEXT.build_vocab(train, vectors=eng_vectors)\n",
        "HI_TEXT.build_vocab(train, vectors=hin_vectors)"
      ],
      "execution_count": 0,
      "outputs": []
    },
    {
      "metadata": {
        "id": "60oomOZC8cwm",
        "colab_type": "code",
        "colab": {}
      },
      "cell_type": "code",
      "source": [
        "train_iter, val_iter, test_iter = BucketIterator.splits((train, val, test), batch_size=BATCH_SIZE, sort_key=lambda x: len(x.English), device=device)"
      ],
      "execution_count": 0,
      "outputs": []
    },
    {
      "metadata": {
        "id": "XaoZSi--i22e",
        "colab_type": "code",
        "colab": {}
      },
      "cell_type": "code",
      "source": [
        "vocab_english = EN_TEXT.vocab\n",
        "vocab_hindi = HI_TEXT.vocab"
      ],
      "execution_count": 0,
      "outputs": []
    },
    {
      "metadata": {
        "id": "RbUlJCRD74kY",
        "colab_type": "code",
        "colab": {
          "base_uri": "https://localhost:8080/",
          "height": 52
        },
        "outputId": "37f87cd2-03e4-410f-87fb-934dab39b4b3"
      },
      "cell_type": "code",
      "source": [
        "print(len(vocab_english))\n",
        "print(len(vocab_hindi))"
      ],
      "execution_count": 264,
      "outputs": [
        {
          "output_type": "stream",
          "text": [
            "1028\n",
            "3016\n"
          ],
          "name": "stdout"
        }
      ]
    },
    {
      "metadata": {
        "id": "TqjinPTo3BLi",
        "colab_type": "text"
      },
      "cell_type": "markdown",
      "source": [
        "**Neural Network Model**\n",
        "---\n",
        "\n"
      ]
    },
    {
      "metadata": {
        "id": "9YrS9m8DHyO6",
        "colab_type": "code",
        "colab": {}
      },
      "cell_type": "code",
      "source": [
        "def create_emb_layer(vocab, inp_dim, emb_dim, non_trainable=False):\n",
        "#     num_embeddings, embedding_dim = weights_matrix.shape\n",
        "    emb_layer = nn.Embedding(len(vocab), emb_dim)\n",
        "    emb_layer.weight.data.copy_(vocab.vectors)\n",
        "    if non_trainable:\n",
        "        emb_layer.weight.requires_grad = False\n",
        "\n",
        "    return emb_layer"
      ],
      "execution_count": 0,
      "outputs": []
    },
    {
      "metadata": {
        "id": "MkZS1nVqFrE2",
        "colab_type": "code",
        "colab": {}
      },
      "cell_type": "code",
      "source": [
        "class Encoder(nn.Module):\n",
        "    def __init__(self, input_dim, emb_dim, hid_dim, n_layers, dropout):\n",
        "        super().__init__()\n",
        "        \n",
        "        self.input_dim = input_dim\n",
        "        self.emb_dim = emb_dim\n",
        "        self.hid_dim = hid_dim\n",
        "        self.n_layers = n_layers\n",
        "        self.dropout = dropout\n",
        "        \n",
        "        self.embedding = create_emb_layer(vocab_english, self.input_dim, self.emb_dim, True)\n",
        "        \n",
        "        self.rnn = nn.LSTM(emb_dim, hid_dim, n_layers, dropout=dropout)\n",
        "        \n",
        "        self.dropout = nn.Dropout(dropout)\n",
        "        \n",
        "    def forward(self, src):\n",
        "#         print()\n",
        "        embedded = self.dropout(self.embedding(src))        \n",
        "        outputs, (hidden, cell) = self.rnn(embedded)\n",
        "        return hidden, cell"
      ],
      "execution_count": 0,
      "outputs": []
    },
    {
      "metadata": {
        "id": "EF4-KbeWGD5w",
        "colab_type": "code",
        "colab": {}
      },
      "cell_type": "code",
      "source": [
        "class Decoder(nn.Module):\n",
        "    def __init__(self, output_dim, emb_dim, hid_dim, n_layers, dropout):\n",
        "        super().__init__()\n",
        "\n",
        "        self.emb_dim = emb_dim\n",
        "        self.hid_dim = hid_dim\n",
        "        self.output_dim = output_dim\n",
        "        self.n_layers = n_layers\n",
        "        self.dropout = dropout\n",
        "        \n",
        "        self.embedding = create_emb_layer(vocab_hindi, self.output_dim, self.emb_dim)\n",
        "        \n",
        "        self.rnn = nn.LSTM(emb_dim, hid_dim, n_layers, dropout=dropout)\n",
        "        \n",
        "        self.out = nn.Linear(hid_dim, output_dim)\n",
        "        \n",
        "        self.dropout = nn.Dropout(dropout)\n",
        "        \n",
        "    def forward(self, input, hidden, cell):\n",
        "        \n",
        "        input = input.unsqueeze(0)\n",
        "        \n",
        "        embedded = self.dropout(self.embedding(input))\n",
        "        output, (hidden, cell) = self.rnn(embedded, (hidden, cell))\n",
        "        \n",
        "        prediction = self.out(output.squeeze(0))\n",
        "        \n",
        "        return prediction, hidden, cell"
      ],
      "execution_count": 0,
      "outputs": []
    },
    {
      "metadata": {
        "id": "y5ftI5ciKyZ_",
        "colab_type": "code",
        "colab": {}
      },
      "cell_type": "code",
      "source": [
        "class Seq2Seq(nn.Module):\n",
        "    def __init__(self, encoder, decoder, device):\n",
        "        super().__init__()\n",
        "        \n",
        "        self.encoder = encoder\n",
        "        self.decoder = decoder\n",
        "        self.device = device\n",
        "        \n",
        "        assert encoder.hid_dim == decoder.hid_dim, \\\n",
        "            \"Hidden dimensions of encoder and decoder must be equal!\"\n",
        "        assert encoder.n_layers == decoder.n_layers, \\\n",
        "            \"Encoder and decoder must have equal number of layers!\"\n",
        "        \n",
        "    def forward(self, src, trg, teacher_forcing_ratio=0.5):\n",
        "        \n",
        "        batch_size = trg.shape[1]\n",
        "        max_len = trg.shape[0]\n",
        "        trg_vocab_size = self.decoder.output_dim\n",
        "        \n",
        "        outputs = torch.zeros(max_len, batch_size, trg_vocab_size).to(self.device)\n",
        "        \n",
        "        #last hidden state of the encoder is used as the initial hidden state of the decoder\n",
        "        hidden, cell = self.encoder(src)\n",
        "        \n",
        "        #first input to the decoder is the <sos> tokens\n",
        "        input = trg[0,:]\n",
        "        \n",
        "        for t in range(1, max_len):\n",
        "            \n",
        "            output, hidden, cell = self.decoder(input, hidden, cell)\n",
        "            outputs[t] = output\n",
        "            teacher_force = random.random() < teacher_forcing_ratio\n",
        "            top1 = output.max(1)[1]\n",
        "            input = (trg[t] if teacher_force else top1)\n",
        "        \n",
        "        return outputs"
      ],
      "execution_count": 0,
      "outputs": []
    },
    {
      "metadata": {
        "id": "lxKKWbNELNNN",
        "colab_type": "text"
      },
      "cell_type": "markdown",
      "source": [
        "**Training Of Model**\n",
        "---\n",
        "\n"
      ]
    },
    {
      "metadata": {
        "id": "7FBlz6h55TVq",
        "colab_type": "code",
        "colab": {}
      },
      "cell_type": "code",
      "source": [
        "def train(model, iterator, optimizer, criterion, clip):\n",
        "    \n",
        "    model.train()\n",
        "    \n",
        "    epoch_loss = 0\n",
        "    \n",
        "    for i, batch in enumerate(iterator):\n",
        "        \n",
        "        src = batch.English\n",
        "        trg = batch.Hindi\n",
        "        \n",
        "        print(i, src.shape, trg.shape)\n",
        "        \n",
        "        optimizer.zero_grad()\n",
        "        \n",
        "        output = model(src, trg)\n",
        "        \n",
        "        output = output[1:].view(-1, output.shape[-1])\n",
        "        trg = trg[1:].view(-1)\n",
        "        \n",
        "        loss = criterion(output, trg)\n",
        "        \n",
        "        loss.backward()\n",
        "        \n",
        "        torch.nn.utils.clip_grad_norm_(model.parameters(), clip)\n",
        "        \n",
        "        optimizer.step()\n",
        "        \n",
        "        epoch_loss += loss.item()\n",
        "        \n",
        "    return epoch_loss / len(iterator)"
      ],
      "execution_count": 0,
      "outputs": []
    },
    {
      "metadata": {
        "id": "CrS-tYwy4LkZ",
        "colab_type": "code",
        "colab": {
          "base_uri": "https://localhost:8080/",
          "height": 133
        },
        "outputId": "07fe092a-d71a-4322-f3e4-194fb8459b33"
      },
      "cell_type": "code",
      "source": [
        "def get_sent()"
      ],
      "execution_count": 228,
      "outputs": [
        {
          "output_type": "error",
          "ename": "SyntaxError",
          "evalue": "ignored",
          "traceback": [
            "\u001b[0;36m  File \u001b[0;32m\"<ipython-input-228-455e3e72facb>\"\u001b[0;36m, line \u001b[0;32m1\u001b[0m\n\u001b[0;31m    def get_sent()\u001b[0m\n\u001b[0m                  ^\u001b[0m\n\u001b[0;31mSyntaxError\u001b[0m\u001b[0;31m:\u001b[0m invalid syntax\n"
          ]
        }
      ]
    },
    {
      "metadata": {
        "id": "_ok332aH5gaI",
        "colab_type": "code",
        "colab": {}
      },
      "cell_type": "code",
      "source": [
        "def evaluate(model, iterator, criterion):\n",
        "    \n",
        "    model.eval()\n",
        "    \n",
        "    epoch_loss = 0\n",
        "    \n",
        "    with torch.no_grad():\n",
        "    \n",
        "        for i, batch in enumerate(iterator):\n",
        "\n",
        "            src = batch.English\n",
        "            trg = batch.Hindi\n",
        "            output = model(src, trg, 0)\n",
        "\n",
        "            output = output[1:].view(-1, output.shape[-1])\n",
        "            trg = trg[1:].view(-1)\n",
        "            \n",
        "            print(output.shape, trg.shape)\n",
        "            loss = criterion(output, trg)\n",
        "            \n",
        "            epoch_loss += loss.item()\n",
        "        \n",
        "    return epoch_loss / len(iterator)"
      ],
      "execution_count": 0,
      "outputs": []
    },
    {
      "metadata": {
        "id": "PyxJBIomDksc",
        "colab_type": "code",
        "colab": {}
      },
      "cell_type": "code",
      "source": [
        "# def evaluate_results(model, source_sentence, target_sentence):\n",
        "    \n",
        "#     model.eval()\n",
        "#     src = to_idx_source(source_sentence)\n",
        "#     trg = to_idx_target(target_sentence)\n",
        "#     output = model(src, trg, 0) #turn off teacher forcing\n",
        "    \n",
        "        \n",
        "#     return epoch_loss / len(iterator)"
      ],
      "execution_count": 0,
      "outputs": []
    },
    {
      "metadata": {
        "id": "ImVc96f95jEg",
        "colab_type": "code",
        "colab": {}
      },
      "cell_type": "code",
      "source": [
        "def epoch_time(start_time, end_time):\n",
        "    elapsed_time = end_time - start_time\n",
        "    elapsed_mins = int(elapsed_time / 60)\n",
        "    elapsed_secs = int(elapsed_time - (elapsed_mins * 60))\n",
        "    return elapsed_mins, elapsed_secs"
      ],
      "execution_count": 0,
      "outputs": []
    },
    {
      "metadata": {
        "id": "WabSP4OjP4PE",
        "colab_type": "code",
        "outputId": "a4c7f65d-11ef-4813-c3c4-f24d02748e2e",
        "colab": {
          "base_uri": "https://localhost:8080/",
          "height": 34
        }
      },
      "cell_type": "code",
      "source": [
        "INPUT_DIM = len(vocab_english)\n",
        "OUTPUT_DIM = len(vocab_hindi)\n",
        "print(INPUT_DIM, OUTPUT_DIM)"
      ],
      "execution_count": 232,
      "outputs": [
        {
          "output_type": "stream",
          "text": [
            "1028 3016\n"
          ],
          "name": "stdout"
        }
      ]
    },
    {
      "metadata": {
        "id": "1KH92-YfPqnP",
        "colab_type": "code",
        "colab": {
          "base_uri": "https://localhost:8080/",
          "height": 72
        },
        "outputId": "cfc1942a-53ec-4e0a-bc9b-887471e0478e"
      },
      "cell_type": "code",
      "source": [
        "ENC_EMB_DIM = 300\n",
        "DEC_EMB_DIM = 300\n",
        "HID_DIM = 16\n",
        "N_LAYERS = 1\n",
        "ENC_DROPOUT = 0.5\n",
        "DEC_DROPOUT = 0.5\n",
        "\n",
        "enc = Encoder(INPUT_DIM, ENC_EMB_DIM, HID_DIM, N_LAYERS, ENC_DROPOUT)\n",
        "dec = Decoder(OUTPUT_DIM, DEC_EMB_DIM, HID_DIM, N_LAYERS, DEC_DROPOUT)\n",
        "\n",
        "model = Seq2Seq(enc, dec, device).to(device)\n",
        "\n",
        "optimizer = optim.Adam(model.parameters())\n",
        "pad_idx = HI_TEXT.vocab.stoi['<PAD>']\n",
        "criterion = nn.CrossEntropyLoss(ignore_index=pad_idx)"
      ],
      "execution_count": 233,
      "outputs": [
        {
          "output_type": "stream",
          "text": [
            "/usr/local/lib/python3.6/dist-packages/torch/nn/modules/rnn.py:46: UserWarning: dropout option adds dropout after all but last recurrent layer, so non-zero dropout expects num_layers greater than 1, but got dropout=0.5 and num_layers=1\n",
            "  \"num_layers={}\".format(dropout, num_layers))\n"
          ],
          "name": "stderr"
        }
      ]
    },
    {
      "metadata": {
        "id": "vibE119s5kRB",
        "colab_type": "code",
        "colab": {
          "base_uri": "https://localhost:8080/",
          "height": 4816
        },
        "outputId": "08e8447c-314f-4cc7-8a03-27d5b69f9203"
      },
      "cell_type": "code",
      "source": [
        "import os\n",
        "import time \n",
        "import random\n",
        "import math\n",
        "\n",
        "\n",
        "N_EPOCHS = 10\n",
        "CLIP = 1\n",
        "SAVE_DIR = 'models'\n",
        "MODEL_SAVE_PATH = os.path.join(SAVE_DIR, 'model.pt')\n",
        "\n",
        "best_valid_loss = float('inf')\n",
        "\n",
        "if not os.path.isdir(f'{SAVE_DIR}'):\n",
        "    os.makedirs(f'{SAVE_DIR}')\n",
        "\n",
        "for epoch in range(N_EPOCHS):\n",
        "    \n",
        "    start_time = time.time()\n",
        "    train_loss = train(model, train_iter, optimizer, criterion, CLIP)\n",
        "    valid_loss = evaluate(model, val_iter, criterion)\n",
        "    end_time = time.time()\n",
        "    \n",
        "    epoch_mins, epoch_secs = epoch_time(start_time, end_time)\n",
        "    \n",
        "    if valid_loss < best_valid_loss:\n",
        "        best_valid_loss = valid_loss\n",
        "        torch.save(model.state_dict(), MODEL_SAVE_PATH)\n",
        "    \n",
        "    print(f'Epoch: {epoch+1:02} | Time: {epoch_mins}m {epoch_secs}s')\n",
        "    print(f'\\tTrain Loss: {train_loss:.3f} | Train PPL: {math.exp(train_loss):7.3f}')\n",
        "    print(f'\\t Val. Loss: {valid_loss:.3f} |  Val. PPL: {math.exp(valid_loss):7.3f}')"
      ],
      "execution_count": 234,
      "outputs": [
        {
          "output_type": "stream",
          "text": [
            "0 torch.Size([3, 64]) torch.Size([50, 64])\n",
            "1 torch.Size([3, 64]) torch.Size([49, 64])\n",
            "2 torch.Size([3, 64]) torch.Size([50, 64])\n",
            "3 torch.Size([3, 64]) torch.Size([38, 64])\n",
            "4 torch.Size([3, 64]) torch.Size([45, 64])\n",
            "5 torch.Size([3, 64]) torch.Size([44, 64])\n",
            "6 torch.Size([3, 1]) torch.Size([20, 1])\n",
            "7 torch.Size([3, 64]) torch.Size([50, 64])\n",
            "8 torch.Size([3, 64]) torch.Size([44, 64])\n",
            "9 torch.Size([3, 64]) torch.Size([47, 64])\n",
            "10 torch.Size([3, 64]) torch.Size([47, 64])\n",
            "11 torch.Size([3, 64]) torch.Size([40, 64])\n",
            "12 torch.Size([3, 64]) torch.Size([40, 64])\n",
            "13 torch.Size([3, 64]) torch.Size([48, 64])\n",
            "14 torch.Size([3, 64]) torch.Size([45, 64])\n",
            "15 torch.Size([3, 64]) torch.Size([62, 64])\n",
            "16 torch.Size([3, 64]) torch.Size([38, 64])\n",
            "torch.Size([2240, 3016]) torch.Size([2240])\n",
            "torch.Size([2496, 3016]) torch.Size([2496])\n",
            "torch.Size([2368, 3016]) torch.Size([2368])\n",
            "torch.Size([3264, 3016]) torch.Size([3264])\n",
            "torch.Size([2176, 3016]) torch.Size([2176])\n",
            "torch.Size([2880, 3016]) torch.Size([2880])\n",
            "torch.Size([828, 3016]) torch.Size([828])\n",
            "Epoch: 01 | Time: 0m 24s\n",
            "\tTrain Loss: 8.024 | Train PPL: 3053.316\n",
            "\t Val. Loss: 7.903 |  Val. PPL: 2706.658\n",
            "0 torch.Size([3, 64]) torch.Size([48, 64])\n",
            "1 torch.Size([3, 64]) torch.Size([41, 64])\n",
            "2 torch.Size([3, 64]) torch.Size([41, 64])\n",
            "3 torch.Size([3, 64]) torch.Size([47, 64])\n",
            "4 torch.Size([3, 1]) torch.Size([15, 1])\n",
            "5 torch.Size([3, 64]) torch.Size([45, 64])\n",
            "6 torch.Size([3, 64]) torch.Size([43, 64])\n",
            "7 torch.Size([3, 64]) torch.Size([50, 64])\n",
            "8 torch.Size([3, 64]) torch.Size([62, 64])\n",
            "9 torch.Size([3, 64]) torch.Size([50, 64])\n",
            "10 torch.Size([3, 64]) torch.Size([49, 64])\n",
            "11 torch.Size([3, 64]) torch.Size([40, 64])\n",
            "12 torch.Size([3, 64]) torch.Size([43, 64])\n",
            "13 torch.Size([3, 64]) torch.Size([44, 64])\n",
            "14 torch.Size([3, 64]) torch.Size([45, 64])\n",
            "15 torch.Size([3, 64]) torch.Size([50, 64])\n",
            "16 torch.Size([3, 64]) torch.Size([47, 64])\n",
            "torch.Size([2240, 3016]) torch.Size([2240])\n",
            "torch.Size([2496, 3016]) torch.Size([2496])\n",
            "torch.Size([2368, 3016]) torch.Size([2368])\n",
            "torch.Size([3264, 3016]) torch.Size([3264])\n",
            "torch.Size([2176, 3016]) torch.Size([2176])\n",
            "torch.Size([2880, 3016]) torch.Size([2880])\n",
            "torch.Size([828, 3016]) torch.Size([828])\n",
            "Epoch: 02 | Time: 0m 25s\n",
            "\tTrain Loss: 7.780 | Train PPL: 2391.259\n",
            "\t Val. Loss: 7.530 |  Val. PPL: 1863.602\n",
            "0 torch.Size([3, 64]) torch.Size([48, 64])\n",
            "1 torch.Size([3, 1]) torch.Size([18, 1])\n",
            "2 torch.Size([3, 64]) torch.Size([38, 64])\n",
            "3 torch.Size([3, 64]) torch.Size([45, 64])\n",
            "4 torch.Size([3, 64]) torch.Size([62, 64])\n",
            "5 torch.Size([3, 64]) torch.Size([40, 64])\n",
            "6 torch.Size([3, 64]) torch.Size([44, 64])\n",
            "7 torch.Size([3, 64]) torch.Size([39, 64])\n",
            "8 torch.Size([3, 64]) torch.Size([50, 64])\n",
            "9 torch.Size([3, 64]) torch.Size([48, 64])\n",
            "10 torch.Size([3, 64]) torch.Size([45, 64])\n",
            "11 torch.Size([3, 64]) torch.Size([47, 64])\n",
            "12 torch.Size([3, 64]) torch.Size([50, 64])\n",
            "13 torch.Size([3, 64]) torch.Size([49, 64])\n",
            "14 torch.Size([3, 64]) torch.Size([42, 64])\n",
            "15 torch.Size([3, 64]) torch.Size([47, 64])\n",
            "16 torch.Size([3, 64]) torch.Size([34, 64])\n",
            "torch.Size([2240, 3016]) torch.Size([2240])\n",
            "torch.Size([2496, 3016]) torch.Size([2496])\n",
            "torch.Size([2368, 3016]) torch.Size([2368])\n",
            "torch.Size([3264, 3016]) torch.Size([3264])\n",
            "torch.Size([2176, 3016]) torch.Size([2176])\n",
            "torch.Size([2880, 3016]) torch.Size([2880])\n",
            "torch.Size([828, 3016]) torch.Size([828])\n",
            "Epoch: 03 | Time: 0m 24s\n",
            "\tTrain Loss: 7.336 | Train PPL: 1534.689\n",
            "\t Val. Loss: 6.768 |  Val. PPL: 869.476\n",
            "0 torch.Size([3, 64]) torch.Size([48, 64])\n",
            "1 torch.Size([3, 64]) torch.Size([41, 64])\n",
            "2 torch.Size([3, 64]) torch.Size([45, 64])\n",
            "3 torch.Size([3, 64]) torch.Size([45, 64])\n",
            "4 torch.Size([3, 64]) torch.Size([49, 64])\n",
            "5 torch.Size([3, 64]) torch.Size([48, 64])\n",
            "6 torch.Size([3, 64]) torch.Size([39, 64])\n",
            "7 torch.Size([3, 64]) torch.Size([62, 64])\n",
            "8 torch.Size([3, 1]) torch.Size([14, 1])\n",
            "9 torch.Size([3, 64]) torch.Size([44, 64])\n",
            "10 torch.Size([3, 64]) torch.Size([50, 64])\n",
            "11 torch.Size([3, 64]) torch.Size([45, 64])\n",
            "12 torch.Size([3, 64]) torch.Size([41, 64])\n",
            "13 torch.Size([3, 64]) torch.Size([40, 64])\n",
            "14 torch.Size([3, 64]) torch.Size([47, 64])\n",
            "15 torch.Size([3, 64]) torch.Size([50, 64])\n",
            "16 torch.Size([3, 64]) torch.Size([50, 64])\n",
            "torch.Size([2240, 3016]) torch.Size([2240])\n",
            "torch.Size([2496, 3016]) torch.Size([2496])\n",
            "torch.Size([2368, 3016]) torch.Size([2368])\n",
            "torch.Size([3264, 3016]) torch.Size([3264])\n",
            "torch.Size([2176, 3016]) torch.Size([2176])\n",
            "torch.Size([2880, 3016]) torch.Size([2880])\n",
            "torch.Size([828, 3016]) torch.Size([828])\n",
            "Epoch: 04 | Time: 0m 24s\n",
            "\tTrain Loss: 6.521 | Train PPL: 679.233\n",
            "\t Val. Loss: 5.932 |  Val. PPL: 377.039\n",
            "0 torch.Size([3, 64]) torch.Size([50, 64])\n",
            "1 torch.Size([3, 64]) torch.Size([38, 64])\n",
            "2 torch.Size([3, 64]) torch.Size([49, 64])\n",
            "3 torch.Size([3, 64]) torch.Size([42, 64])\n",
            "4 torch.Size([3, 64]) torch.Size([43, 64])\n",
            "5 torch.Size([3, 64]) torch.Size([38, 64])\n",
            "6 torch.Size([3, 64]) torch.Size([45, 64])\n",
            "7 torch.Size([3, 64]) torch.Size([43, 64])\n",
            "8 torch.Size([3, 64]) torch.Size([48, 64])\n",
            "9 torch.Size([3, 64]) torch.Size([62, 64])\n",
            "10 torch.Size([3, 64]) torch.Size([50, 64])\n",
            "11 torch.Size([3, 64]) torch.Size([50, 64])\n",
            "12 torch.Size([3, 64]) torch.Size([47, 64])\n",
            "13 torch.Size([3, 64]) torch.Size([45, 64])\n",
            "14 torch.Size([3, 1]) torch.Size([10, 1])\n",
            "15 torch.Size([3, 64]) torch.Size([41, 64])\n",
            "16 torch.Size([3, 64]) torch.Size([39, 64])\n",
            "torch.Size([2240, 3016]) torch.Size([2240])\n",
            "torch.Size([2496, 3016]) torch.Size([2496])\n",
            "torch.Size([2368, 3016]) torch.Size([2368])\n",
            "torch.Size([3264, 3016]) torch.Size([3264])\n",
            "torch.Size([2176, 3016]) torch.Size([2176])\n",
            "torch.Size([2880, 3016]) torch.Size([2880])\n",
            "torch.Size([828, 3016]) torch.Size([828])\n",
            "Epoch: 05 | Time: 0m 24s\n",
            "\tTrain Loss: 5.826 | Train PPL: 339.040\n",
            "\t Val. Loss: 5.263 |  Val. PPL: 192.993\n",
            "0 torch.Size([3, 1]) torch.Size([10, 1])\n",
            "1 torch.Size([3, 64]) torch.Size([43, 64])\n",
            "2 torch.Size([3, 64]) torch.Size([45, 64])\n",
            "3 torch.Size([3, 64]) torch.Size([44, 64])\n",
            "4 torch.Size([3, 64]) torch.Size([62, 64])\n",
            "5 torch.Size([3, 64]) torch.Size([40, 64])\n",
            "6 torch.Size([3, 64]) torch.Size([48, 64])\n",
            "7 torch.Size([3, 64]) torch.Size([45, 64])\n",
            "8 torch.Size([3, 64]) torch.Size([50, 64])\n",
            "9 torch.Size([3, 64]) torch.Size([42, 64])\n",
            "10 torch.Size([3, 64]) torch.Size([41, 64])\n",
            "11 torch.Size([3, 64]) torch.Size([44, 64])\n",
            "12 torch.Size([3, 64]) torch.Size([49, 64])\n",
            "13 torch.Size([3, 64]) torch.Size([45, 64])\n",
            "14 torch.Size([3, 64]) torch.Size([48, 64])\n",
            "15 torch.Size([3, 64]) torch.Size([50, 64])\n",
            "16 torch.Size([3, 64]) torch.Size([38, 64])\n",
            "torch.Size([2240, 3016]) torch.Size([2240])\n",
            "torch.Size([2496, 3016]) torch.Size([2496])\n",
            "torch.Size([2368, 3016]) torch.Size([2368])\n",
            "torch.Size([3264, 3016]) torch.Size([3264])\n",
            "torch.Size([2176, 3016]) torch.Size([2176])\n",
            "torch.Size([2880, 3016]) torch.Size([2880])\n",
            "torch.Size([828, 3016]) torch.Size([828])\n",
            "Epoch: 06 | Time: 0m 24s\n",
            "\tTrain Loss: 5.260 | Train PPL: 192.455\n",
            "\t Val. Loss: 4.737 |  Val. PPL: 114.106\n",
            "0 torch.Size([3, 64]) torch.Size([48, 64])\n",
            "1 torch.Size([3, 64]) torch.Size([50, 64])\n",
            "2 torch.Size([3, 64]) torch.Size([49, 64])\n",
            "3 torch.Size([3, 64]) torch.Size([44, 64])\n",
            "4 torch.Size([3, 64]) torch.Size([37, 64])\n",
            "5 torch.Size([3, 64]) torch.Size([50, 64])\n",
            "6 torch.Size([3, 64]) torch.Size([45, 64])\n",
            "7 torch.Size([3, 64]) torch.Size([44, 64])\n",
            "8 torch.Size([3, 1]) torch.Size([9, 1])\n",
            "9 torch.Size([3, 64]) torch.Size([42, 64])\n",
            "10 torch.Size([3, 64]) torch.Size([48, 64])\n",
            "11 torch.Size([3, 64]) torch.Size([40, 64])\n",
            "12 torch.Size([3, 64]) torch.Size([62, 64])\n",
            "13 torch.Size([3, 64]) torch.Size([50, 64])\n",
            "14 torch.Size([3, 64]) torch.Size([43, 64])\n",
            "15 torch.Size([3, 64]) torch.Size([41, 64])\n",
            "16 torch.Size([3, 64]) torch.Size([40, 64])\n",
            "torch.Size([2240, 3016]) torch.Size([2240])\n",
            "torch.Size([2496, 3016]) torch.Size([2496])\n",
            "torch.Size([2368, 3016]) torch.Size([2368])\n",
            "torch.Size([3264, 3016]) torch.Size([3264])\n",
            "torch.Size([2176, 3016]) torch.Size([2176])\n",
            "torch.Size([2880, 3016]) torch.Size([2880])\n",
            "torch.Size([828, 3016]) torch.Size([828])\n",
            "Epoch: 07 | Time: 0m 24s\n",
            "\tTrain Loss: 4.837 | Train PPL: 126.058\n",
            "\t Val. Loss: 4.304 |  Val. PPL:  73.975\n",
            "0 torch.Size([3, 64]) torch.Size([48, 64])\n",
            "1 torch.Size([3, 64]) torch.Size([42, 64])\n",
            "2 torch.Size([3, 64]) torch.Size([45, 64])\n",
            "3 torch.Size([3, 64]) torch.Size([39, 64])\n",
            "4 torch.Size([3, 64]) torch.Size([50, 64])\n",
            "5 torch.Size([3, 1]) torch.Size([9, 1])\n",
            "6 torch.Size([3, 64]) torch.Size([43, 64])\n",
            "7 torch.Size([3, 64]) torch.Size([40, 64])\n",
            "8 torch.Size([3, 64]) torch.Size([40, 64])\n",
            "9 torch.Size([3, 64]) torch.Size([50, 64])\n",
            "10 torch.Size([3, 64]) torch.Size([39, 64])\n",
            "11 torch.Size([3, 64]) torch.Size([62, 64])\n",
            "12 torch.Size([3, 64]) torch.Size([44, 64])\n",
            "13 torch.Size([3, 64]) torch.Size([43, 64])\n",
            "14 torch.Size([3, 64]) torch.Size([40, 64])\n",
            "15 torch.Size([3, 64]) torch.Size([43, 64])\n",
            "16 torch.Size([3, 64]) torch.Size([48, 64])\n",
            "torch.Size([2240, 3016]) torch.Size([2240])\n",
            "torch.Size([2496, 3016]) torch.Size([2496])\n",
            "torch.Size([2368, 3016]) torch.Size([2368])\n",
            "torch.Size([3264, 3016]) torch.Size([3264])\n",
            "torch.Size([2176, 3016]) torch.Size([2176])\n",
            "torch.Size([2880, 3016]) torch.Size([2880])\n",
            "torch.Size([828, 3016]) torch.Size([828])\n",
            "Epoch: 08 | Time: 0m 23s\n",
            "\tTrain Loss: 4.473 | Train PPL:  87.594\n",
            "\t Val. Loss: 3.941 |  Val. PPL:  51.447\n",
            "0 torch.Size([3, 64]) torch.Size([50, 64])\n",
            "1 torch.Size([3, 64]) torch.Size([49, 64])\n",
            "2 torch.Size([3, 64]) torch.Size([47, 64])\n",
            "3 torch.Size([3, 64]) torch.Size([43, 64])\n",
            "4 torch.Size([3, 64]) torch.Size([42, 64])\n",
            "5 torch.Size([3, 64]) torch.Size([47, 64])\n",
            "6 torch.Size([3, 64]) torch.Size([40, 64])\n",
            "7 torch.Size([3, 64]) torch.Size([48, 64])\n",
            "8 torch.Size([3, 64]) torch.Size([50, 64])\n",
            "9 torch.Size([3, 64]) torch.Size([43, 64])\n",
            "10 torch.Size([3, 1]) torch.Size([34, 1])\n",
            "11 torch.Size([3, 64]) torch.Size([62, 64])\n",
            "12 torch.Size([3, 64]) torch.Size([44, 64])\n",
            "13 torch.Size([3, 64]) torch.Size([44, 64])\n",
            "14 torch.Size([3, 64]) torch.Size([44, 64])\n",
            "15 torch.Size([3, 64]) torch.Size([42, 64])\n",
            "16 torch.Size([3, 64]) torch.Size([50, 64])\n",
            "torch.Size([2240, 3016]) torch.Size([2240])\n",
            "torch.Size([2496, 3016]) torch.Size([2496])\n",
            "torch.Size([2368, 3016]) torch.Size([2368])\n",
            "torch.Size([3264, 3016]) torch.Size([3264])\n",
            "torch.Size([2176, 3016]) torch.Size([2176])\n",
            "torch.Size([2880, 3016]) torch.Size([2880])\n",
            "torch.Size([828, 3016]) torch.Size([828])\n",
            "Epoch: 09 | Time: 0m 24s\n",
            "\tTrain Loss: 4.115 | Train PPL:  61.256\n",
            "\t Val. Loss: 3.636 |  Val. PPL:  37.943\n",
            "0 torch.Size([3, 64]) torch.Size([41, 64])\n",
            "1 torch.Size([3, 64]) torch.Size([50, 64])\n",
            "2 torch.Size([3, 64]) torch.Size([47, 64])\n",
            "3 torch.Size([3, 64]) torch.Size([62, 64])\n",
            "4 torch.Size([3, 64]) torch.Size([42, 64])\n",
            "5 torch.Size([3, 64]) torch.Size([41, 64])\n",
            "6 torch.Size([3, 64]) torch.Size([45, 64])\n",
            "7 torch.Size([3, 64]) torch.Size([48, 64])\n",
            "8 torch.Size([3, 64]) torch.Size([44, 64])\n",
            "9 torch.Size([3, 64]) torch.Size([40, 64])\n",
            "10 torch.Size([3, 64]) torch.Size([50, 64])\n",
            "11 torch.Size([3, 64]) torch.Size([42, 64])\n",
            "12 torch.Size([3, 1]) torch.Size([15, 1])\n",
            "13 torch.Size([3, 64]) torch.Size([48, 64])\n",
            "14 torch.Size([3, 64]) torch.Size([48, 64])\n",
            "15 torch.Size([3, 64]) torch.Size([49, 64])\n",
            "16 torch.Size([3, 64]) torch.Size([43, 64])\n",
            "torch.Size([2240, 3016]) torch.Size([2240])\n",
            "torch.Size([2496, 3016]) torch.Size([2496])\n",
            "torch.Size([2368, 3016]) torch.Size([2368])\n",
            "torch.Size([3264, 3016]) torch.Size([3264])\n",
            "torch.Size([2176, 3016]) torch.Size([2176])\n",
            "torch.Size([2880, 3016]) torch.Size([2880])\n",
            "torch.Size([828, 3016]) torch.Size([828])\n",
            "Epoch: 10 | Time: 0m 24s\n",
            "\tTrain Loss: 3.845 | Train PPL:  46.752\n",
            "\t Val. Loss: 3.385 |  Val. PPL:  29.532\n"
          ],
          "name": "stdout"
        }
      ]
    },
    {
      "metadata": {
        "id": "bKzFOQm45mH4",
        "colab_type": "code",
        "colab": {
          "base_uri": "https://localhost:8080/",
          "height": 52
        },
        "outputId": "d86de25d-c8e4-4ca1-cf39-4fb36f12494d"
      },
      "cell_type": "code",
      "source": [
        "model.load_state_dict(torch.load(MODEL_SAVE_PATH))\n",
        "\n",
        "test_loss = evaluate(model, test_iter, criterion)\n",
        "\n",
        "print(f'| Test Loss: {test_loss:.3f} | Test PPL: {math.exp(test_loss):7.3f} |')"
      ],
      "execution_count": 226,
      "outputs": [
        {
          "output_type": "stream",
          "text": [
            "torch.Size([30, 3016]) torch.Size([30])\n",
            "| Test Loss: 4.695 | Test PPL: 109.375 |\n"
          ],
          "name": "stdout"
        }
      ]
    },
    {
      "metadata": {
        "id": "Pv_nKaY123bD",
        "colab_type": "code",
        "colab": {
          "base_uri": "https://localhost:8080/",
          "height": 34
        },
        "outputId": "8171806a-e866-4029-d9d3-d8aa266f9f39"
      },
      "cell_type": "code",
      "source": [
        "len(eng_test)"
      ],
      "execution_count": 186,
      "outputs": [
        {
          "output_type": "execute_result",
          "data": {
            "text/plain": [
              "200"
            ]
          },
          "metadata": {
            "tags": []
          },
          "execution_count": 186
        }
      ]
    },
    {
      "metadata": {
        "id": "stTevtXD_kBU",
        "colab_type": "code",
        "colab": {}
      },
      "cell_type": "code",
      "source": [
        ""
      ],
      "execution_count": 0,
      "outputs": []
    }
  ]
}